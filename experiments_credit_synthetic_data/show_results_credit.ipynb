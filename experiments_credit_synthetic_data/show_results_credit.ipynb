{
 "cells": [
  {
   "cell_type": "code",
   "execution_count": null,
   "id": "505dde9f-52dd-40a9-b51c-a8b2b30952a9",
   "metadata": {},
   "outputs": [],
   "source": [
    "import pandas as pd\n",
    "import glob\n",
    "import os\n",
    "        \n",
    "directoryPath = os.path.join('results_credit/')\n",
    "\n",
    "final_results = pd.DataFrame()\n",
    "for file_name in glob.glob(directoryPath+'*.csv'):\n",
    "    file = pd.read_csv(file_name, low_memory=False)\n",
    "    final_results = pd.concat([final_results,file], axis=0)\n",
    "\n",
    "final_results = final_results.drop(columns=['index', 'Size (median)', 'Size-hard (median)', 'Size-easy (median)', 'n-hard', 'n-easy',\n",
    "                                            'seed', 'Size conditional on cover'])\n",
    "\n",
    "final_results = final_results.groupby(['Model']).mean()\n",
    "final_results\n",
    "# final_results.to_csv('final_results_no_resample.csv') "
   ]
  }
 ],
 "metadata": {
  "kernelspec": {
   "display_name": "Python 3 (ipykernel)",
   "language": "python",
   "name": "python3"
  },
  "language_info": {
   "codemirror_mode": {
    "name": "ipython",
    "version": 3
   },
   "file_extension": ".py",
   "mimetype": "text/x-python",
   "name": "python",
   "nbconvert_exporter": "python",
   "pygments_lexer": "ipython3",
   "version": "3.9.7"
  }
 },
 "nbformat": 4,
 "nbformat_minor": 5
}
